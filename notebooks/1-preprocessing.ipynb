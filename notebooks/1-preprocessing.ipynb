{
 "cells": [
  {
   "cell_type": "markdown",
   "metadata": {},
   "source": [
    "### 1. Imports & Load Data"
   ]
  },
  {
   "cell_type": "code",
   "execution_count": 16,
   "metadata": {},
   "outputs": [
    {
     "data": {
      "text/html": [
       "<div>\n",
       "<style scoped>\n",
       "    .dataframe tbody tr th:only-of-type {\n",
       "        vertical-align: middle;\n",
       "    }\n",
       "\n",
       "    .dataframe tbody tr th {\n",
       "        vertical-align: top;\n",
       "    }\n",
       "\n",
       "    .dataframe thead th {\n",
       "        text-align: right;\n",
       "    }\n",
       "</style>\n",
       "<table border=\"1\" class=\"dataframe\">\n",
       "  <thead>\n",
       "    <tr style=\"text-align: right;\">\n",
       "      <th></th>\n",
       "      <th>label</th>\n",
       "      <th>review</th>\n",
       "    </tr>\n",
       "  </thead>\n",
       "  <tbody>\n",
       "    <tr>\n",
       "      <th>0</th>\n",
       "      <td>negative</td>\n",
       "      <td>In the ten years since Wildside aired, nothing...</td>\n",
       "    </tr>\n",
       "    <tr>\n",
       "      <th>1</th>\n",
       "      <td>positive</td>\n",
       "      <td>This is a better-than-average entry in the Sai...</td>\n",
       "    </tr>\n",
       "    <tr>\n",
       "      <th>2</th>\n",
       "      <td>negative</td>\n",
       "      <td>\"The Mayor Of Hell\" has the feel of an early D...</td>\n",
       "    </tr>\n",
       "    <tr>\n",
       "      <th>3</th>\n",
       "      <td>positive</td>\n",
       "      <td>This is a really great short from Hal Roach. T...</td>\n",
       "    </tr>\n",
       "    <tr>\n",
       "      <th>4</th>\n",
       "      <td>positive</td>\n",
       "      <td>A rather charming depiction of European union ...</td>\n",
       "    </tr>\n",
       "  </tbody>\n",
       "</table>\n",
       "</div>"
      ],
      "text/plain": [
       "      label                                             review\n",
       "0  negative  In the ten years since Wildside aired, nothing...\n",
       "1  positive  This is a better-than-average entry in the Sai...\n",
       "2  negative  \"The Mayor Of Hell\" has the feel of an early D...\n",
       "3  positive  This is a really great short from Hal Roach. T...\n",
       "4  positive  A rather charming depiction of European union ..."
      ]
     },
     "execution_count": 16,
     "metadata": {},
     "output_type": "execute_result"
    }
   ],
   "source": [
    "import pandas as pd\n",
    "import re\n",
    "import nltk\n",
    "from nltk.tokenize import word_tokenize\n",
    "from nltk.corpus import stopwords\n",
    "\n",
    "# Load the reviews CSV\n",
    "df = pd.read_csv('imdb_movie_reviews.csv')\n",
    "df.head()"
   ]
  },
  {
   "cell_type": "markdown",
   "metadata": {},
   "source": [
    "### 2. Remove Punctuation"
   ]
  },
  {
   "cell_type": "code",
   "execution_count": 17,
   "metadata": {},
   "outputs": [
    {
     "name": "stdout",
     "output_type": "stream",
     "text": [
      "!\"#$%&'()*+,-./:;<=>?@[\\]^_`{|}~\n"
     ]
    }
   ],
   "source": [
    "# Review the possible punctuation.\n",
    "import string\n",
    "\n",
    "print(string.punctuation)\n",
    "# → '!\"#$%&\\'()*+,-./:;<=>?@[\\\\]^_`{|}~'"
   ]
  },
  {
   "cell_type": "code",
   "execution_count": 18,
   "metadata": {},
   "outputs": [],
   "source": [
    "# Create a function\n",
    "def remove_punctuation(review):\n",
    "    # build a new string without any characters in string.punctuation\n",
    "    review = \"\".join([char for char in review if char not in string.punctuation])\n",
    "    return review"
   ]
  },
  {
   "cell_type": "code",
   "execution_count": 19,
   "metadata": {},
   "outputs": [
    {
     "name": "stdout",
     "output_type": "stream",
     "text": [
      "Wow This right here is amazing\n"
     ]
    }
   ],
   "source": [
    "# Test a function\n",
    "print(remove_punctuation(\"Wow!!! This, right here, is amazing...?\"))"
   ]
  },
  {
   "cell_type": "code",
   "execution_count": 27,
   "metadata": {},
   "outputs": [
    {
     "data": {
      "text/html": [
       "<div>\n",
       "<style scoped>\n",
       "    .dataframe tbody tr th:only-of-type {\n",
       "        vertical-align: middle;\n",
       "    }\n",
       "\n",
       "    .dataframe tbody tr th {\n",
       "        vertical-align: top;\n",
       "    }\n",
       "\n",
       "    .dataframe thead th {\n",
       "        text-align: right;\n",
       "    }\n",
       "</style>\n",
       "<table border=\"1\" class=\"dataframe\">\n",
       "  <thead>\n",
       "    <tr style=\"text-align: right;\">\n",
       "      <th></th>\n",
       "      <th>review</th>\n",
       "      <th>review_no_punct</th>\n",
       "    </tr>\n",
       "  </thead>\n",
       "  <tbody>\n",
       "    <tr>\n",
       "      <th>0</th>\n",
       "      <td>In the ten years since Wildside aired, nothing...</td>\n",
       "      <td>In the ten years since Wildside aired nothing ...</td>\n",
       "    </tr>\n",
       "    <tr>\n",
       "      <th>1</th>\n",
       "      <td>This is a better-than-average entry in the Sai...</td>\n",
       "      <td>This is a betterthanaverage entry in the Saint...</td>\n",
       "    </tr>\n",
       "    <tr>\n",
       "      <th>2</th>\n",
       "      <td>\"The Mayor Of Hell\" has the feel of an early D...</td>\n",
       "      <td>The Mayor Of Hell has the feel of an early Dea...</td>\n",
       "    </tr>\n",
       "    <tr>\n",
       "      <th>3</th>\n",
       "      <td>This is a really great short from Hal Roach. T...</td>\n",
       "      <td>This is a really great short from Hal Roach Th...</td>\n",
       "    </tr>\n",
       "    <tr>\n",
       "      <th>4</th>\n",
       "      <td>A rather charming depiction of European union ...</td>\n",
       "      <td>A rather charming depiction of European union ...</td>\n",
       "    </tr>\n",
       "  </tbody>\n",
       "</table>\n",
       "</div>"
      ],
      "text/plain": [
       "                                              review  \\\n",
       "0  In the ten years since Wildside aired, nothing...   \n",
       "1  This is a better-than-average entry in the Sai...   \n",
       "2  \"The Mayor Of Hell\" has the feel of an early D...   \n",
       "3  This is a really great short from Hal Roach. T...   \n",
       "4  A rather charming depiction of European union ...   \n",
       "\n",
       "                                     review_no_punct  \n",
       "0  In the ten years since Wildside aired nothing ...  \n",
       "1  This is a betterthanaverage entry in the Saint...  \n",
       "2  The Mayor Of Hell has the feel of an early Dea...  \n",
       "3  This is a really great short from Hal Roach Th...  \n",
       "4  A rather charming depiction of European union ...  "
      ]
     },
     "execution_count": 27,
     "metadata": {},
     "output_type": "execute_result"
    }
   ],
   "source": [
    "# Create a new column in the DataFrame\n",
    "df['review_no_punct'] = df['review'].apply(lambda x: remove_punctuation(x))\n",
    "df[['review', 'review_no_punct']].head()"
   ]
  },
  {
   "cell_type": "markdown",
   "metadata": {},
   "source": [
    "### 3. Tokenize"
   ]
  },
  {
   "cell_type": "code",
   "execution_count": 28,
   "metadata": {},
   "outputs": [],
   "source": [
    "# Create a function\n",
    "def tokenize(review):\n",
    "    tokens = review.lower().split()\n",
    "    return tokens"
   ]
  },
  {
   "cell_type": "code",
   "execution_count": 29,
   "metadata": {},
   "outputs": [
    {
     "name": "stdout",
     "output_type": "stream",
     "text": [
      "['this', 'is', 'a', 'sample', 'review']\n"
     ]
    }
   ],
   "source": [
    "# Test on a sample string.\n",
    "print(tokenize(\"This Is A SAMPLE Review\"))  "
   ]
  },
  {
   "cell_type": "code",
   "execution_count": 30,
   "metadata": {},
   "outputs": [
    {
     "data": {
      "text/html": [
       "<div>\n",
       "<style scoped>\n",
       "    .dataframe tbody tr th:only-of-type {\n",
       "        vertical-align: middle;\n",
       "    }\n",
       "\n",
       "    .dataframe tbody tr th {\n",
       "        vertical-align: top;\n",
       "    }\n",
       "\n",
       "    .dataframe thead th {\n",
       "        text-align: right;\n",
       "    }\n",
       "</style>\n",
       "<table border=\"1\" class=\"dataframe\">\n",
       "  <thead>\n",
       "    <tr style=\"text-align: right;\">\n",
       "      <th></th>\n",
       "      <th>review_no_punct</th>\n",
       "      <th>review_tokenized</th>\n",
       "    </tr>\n",
       "  </thead>\n",
       "  <tbody>\n",
       "    <tr>\n",
       "      <th>0</th>\n",
       "      <td>In the ten years since Wildside aired nothing ...</td>\n",
       "      <td>[in, the, ten, years, since, wildside, aired, ...</td>\n",
       "    </tr>\n",
       "    <tr>\n",
       "      <th>1</th>\n",
       "      <td>This is a betterthanaverage entry in the Saint...</td>\n",
       "      <td>[this, is, a, betterthanaverage, entry, in, th...</td>\n",
       "    </tr>\n",
       "    <tr>\n",
       "      <th>2</th>\n",
       "      <td>The Mayor Of Hell has the feel of an early Dea...</td>\n",
       "      <td>[the, mayor, of, hell, has, the, feel, of, an,...</td>\n",
       "    </tr>\n",
       "    <tr>\n",
       "      <th>3</th>\n",
       "      <td>This is a really great short from Hal Roach Th...</td>\n",
       "      <td>[this, is, a, really, great, short, from, hal,...</td>\n",
       "    </tr>\n",
       "    <tr>\n",
       "      <th>4</th>\n",
       "      <td>A rather charming depiction of European union ...</td>\n",
       "      <td>[a, rather, charming, depiction, of, european,...</td>\n",
       "    </tr>\n",
       "  </tbody>\n",
       "</table>\n",
       "</div>"
      ],
      "text/plain": [
       "                                     review_no_punct  \\\n",
       "0  In the ten years since Wildside aired nothing ...   \n",
       "1  This is a betterthanaverage entry in the Saint...   \n",
       "2  The Mayor Of Hell has the feel of an early Dea...   \n",
       "3  This is a really great short from Hal Roach Th...   \n",
       "4  A rather charming depiction of European union ...   \n",
       "\n",
       "                                    review_tokenized  \n",
       "0  [in, the, ten, years, since, wildside, aired, ...  \n",
       "1  [this, is, a, betterthanaverage, entry, in, th...  \n",
       "2  [the, mayor, of, hell, has, the, feel, of, an,...  \n",
       "3  [this, is, a, really, great, short, from, hal,...  \n",
       "4  [a, rather, charming, depiction, of, european,...  "
      ]
     },
     "execution_count": 30,
     "metadata": {},
     "output_type": "execute_result"
    }
   ],
   "source": [
    "# Using a lambda, create a new column with tokenized reviews \n",
    "df['review_tokenized'] = df['review_no_punct'].apply(lambda x: tokenize(x))\n",
    "df[['review_no_punct', 'review_tokenized']].head()"
   ]
  },
  {
   "cell_type": "code",
   "execution_count": 33,
   "metadata": {},
   "outputs": [
    {
     "name": "stdout",
     "output_type": "stream",
     "text": [
      "Min words: 10\n",
      "Max words: 2469\n",
      "Avg words: 232.00\n"
     ]
    }
   ],
   "source": [
    "# Analyze min, max, and average token counts.\n",
    "lengths = df['review_tokenized'].apply(len)\n",
    "print(\"Min words:\", lengths.min())\n",
    "print(\"Max words:\", lengths.max())\n",
    "print(\"Avg words: {:.2f}\".format(lengths.mean()))"
   ]
  },
  {
   "cell_type": "markdown",
   "metadata": {},
   "source": [
    "### 4. Stop Word Removal"
   ]
  },
  {
   "cell_type": "code",
   "execution_count": 35,
   "metadata": {},
   "outputs": [],
   "source": [
    "# Import NLTK\n",
    "from nltk.corpus import stopwords\n",
    "stop_words = set(stopwords.words('english'))"
   ]
  },
  {
   "cell_type": "code",
   "execution_count": 36,
   "metadata": {},
   "outputs": [
    {
     "name": "stdout",
     "output_type": "stream",
     "text": [
      "198 stop words\n",
      "['a', 'about', 'above', 'after', 'again', 'against', 'ain', 'all', 'am', 'an', 'and', 'any', 'are', 'aren', \"aren't\", 'as', 'at', 'be', 'because', 'been'] …\n"
     ]
    }
   ],
   "source": [
    "# Take a quick look at how many stop words we have\n",
    "print(len(stop_words), \"stop words\")\n",
    "print(sorted(list(stop_words))[:20], \"…\")"
   ]
  },
  {
   "cell_type": "code",
   "execution_count": 37,
   "metadata": {},
   "outputs": [],
   "source": [
    "# Define a function that removes any stop word from a token list\n",
    "def remove_stopwords(review):\n",
    "    review = [word for word in review if word not in stop_words]\n",
    "    return review"
   ]
  },
  {
   "cell_type": "code",
   "execution_count": 38,
   "metadata": {},
   "outputs": [
    {
     "name": "stdout",
     "output_type": "stream",
     "text": [
      "['example', 'stop', 'word', 'removal']\n"
     ]
    }
   ],
   "source": [
    "# Test it on a sample list of tokens\n",
    "print(remove_stopwords(['this','is','an','example','of','stop','word','removal']))"
   ]
  },
  {
   "cell_type": "code",
   "execution_count": 39,
   "metadata": {},
   "outputs": [
    {
     "data": {
      "text/html": [
       "<div>\n",
       "<style scoped>\n",
       "    .dataframe tbody tr th:only-of-type {\n",
       "        vertical-align: middle;\n",
       "    }\n",
       "\n",
       "    .dataframe tbody tr th {\n",
       "        vertical-align: top;\n",
       "    }\n",
       "\n",
       "    .dataframe thead th {\n",
       "        text-align: right;\n",
       "    }\n",
       "</style>\n",
       "<table border=\"1\" class=\"dataframe\">\n",
       "  <thead>\n",
       "    <tr style=\"text-align: right;\">\n",
       "      <th></th>\n",
       "      <th>review_tokenized</th>\n",
       "      <th>review_no_stop</th>\n",
       "    </tr>\n",
       "  </thead>\n",
       "  <tbody>\n",
       "    <tr>\n",
       "      <th>0</th>\n",
       "      <td>[in, the, ten, years, since, wildside, aired, ...</td>\n",
       "      <td>[ten, years, since, wildside, aired, nothing, ...</td>\n",
       "    </tr>\n",
       "    <tr>\n",
       "      <th>1</th>\n",
       "      <td>[this, is, a, betterthanaverage, entry, in, th...</td>\n",
       "      <td>[betterthanaverage, entry, saint, series, hold...</td>\n",
       "    </tr>\n",
       "    <tr>\n",
       "      <th>2</th>\n",
       "      <td>[the, mayor, of, hell, has, the, feel, of, an,...</td>\n",
       "      <td>[mayor, hell, feel, early, dead, end, kids, fi...</td>\n",
       "    </tr>\n",
       "    <tr>\n",
       "      <th>3</th>\n",
       "      <td>[this, is, a, really, great, short, from, hal,...</td>\n",
       "      <td>[really, great, short, hal, roach, two, main, ...</td>\n",
       "    </tr>\n",
       "    <tr>\n",
       "      <th>4</th>\n",
       "      <td>[a, rather, charming, depiction, of, european,...</td>\n",
       "      <td>[rather, charming, depiction, european, union,...</td>\n",
       "    </tr>\n",
       "  </tbody>\n",
       "</table>\n",
       "</div>"
      ],
      "text/plain": [
       "                                    review_tokenized  \\\n",
       "0  [in, the, ten, years, since, wildside, aired, ...   \n",
       "1  [this, is, a, betterthanaverage, entry, in, th...   \n",
       "2  [the, mayor, of, hell, has, the, feel, of, an,...   \n",
       "3  [this, is, a, really, great, short, from, hal,...   \n",
       "4  [a, rather, charming, depiction, of, european,...   \n",
       "\n",
       "                                      review_no_stop  \n",
       "0  [ten, years, since, wildside, aired, nothing, ...  \n",
       "1  [betterthanaverage, entry, saint, series, hold...  \n",
       "2  [mayor, hell, feel, early, dead, end, kids, fi...  \n",
       "3  [really, great, short, hal, roach, two, main, ...  \n",
       "4  [rather, charming, depiction, european, union,...  "
      ]
     },
     "execution_count": 39,
     "metadata": {},
     "output_type": "execute_result"
    }
   ],
   "source": [
    "# Create a new column with stop words removed\n",
    "df['review_no_stop'] = df['review_tokenized'].apply(lambda x: remove_stopwords(x))\n",
    "df[['review_tokenized','review_no_stop']].head()"
   ]
  },
  {
   "cell_type": "code",
   "execution_count": 43,
   "metadata": {},
   "outputs": [
    {
     "name": "stdout",
     "output_type": "stream",
     "text": [
      "Original:\n",
      "  Min tokens:   10\n",
      "  Max tokens:   2469\n",
      "  Avg tokens:  232.00\n",
      "\n",
      "  No of stop words:\n",
      "  Min tokens:   6\n",
      "  Max tokens:   1449\n",
      "  Avg tokens:  124.06\n"
     ]
    }
   ],
   "source": [
    "# Compare token counts before and after stop‐word removal\n",
    "\n",
    "# minimum, maximum, and average for the original tokenized reviews\n",
    "print(\"Original:\")\n",
    "print(\"  Min tokens:  \", df['review_tokenized'].apply(len).min())\n",
    "print(\"  Max tokens:  \", df['review_tokenized'].apply(len).max())\n",
    "print(\"  Avg tokens:  {:.2f}\".format(df['review_tokenized'].apply(len).mean()))\n",
    "\n",
    "# minimum, maximum, and average for the no‐stopword reviews\n",
    "print(\"\\n  No of stop words:\")\n",
    "print(\"  Min tokens:  \", df['review_no_stop'].apply(len).min())\n",
    "print(\"  Max tokens:  \", df['review_no_stop'].apply(len).max())\n",
    "print(\"  Avg tokens:  {:.2f}\".format(df['review_no_stop'].apply(len).mean()))"
   ]
  },
  {
   "cell_type": "markdown",
   "metadata": {},
   "source": [
    "### 5. Stemming"
   ]
  },
  {
   "cell_type": "code",
   "execution_count": 44,
   "metadata": {},
   "outputs": [
    {
     "name": "stderr",
     "output_type": "stream",
     "text": [
      "[nltk_data] Downloading package punkt to /Users/vunguyen/nltk_data...\n",
      "[nltk_data]   Package punkt is already up-to-date!\n"
     ]
    }
   ],
   "source": [
    "# Import NLTK and the PorterStemmer, then download punkt\n",
    "import nltk\n",
    "nltk.download('punkt')\n",
    "\n",
    "from nltk.stem import PorterStemmer"
   ]
  },
  {
   "cell_type": "code",
   "execution_count": 45,
   "metadata": {},
   "outputs": [],
   "source": [
    "# Instantiate stemmer\n",
    "stemmer = PorterStemmer()"
   ]
  },
  {
   "cell_type": "code",
   "execution_count": 46,
   "metadata": {},
   "outputs": [
    {
     "name": "stdout",
     "output_type": "stream",
     "text": [
      "Original: ['ten', 'years', 'since', 'wildside', 'aired', 'nothing', 'really', 'come', 'close', 'quality']\n",
      "Stemmed:  ['ten', 'year', 'sinc', 'wildsid', 'air', 'noth', 'realli', 'come', 'close', 'qualiti']\n"
     ]
    }
   ],
   "source": [
    "# Try stemming a small sample of your no-stop-word tokens\n",
    "sample = df['review_no_stop'].iloc[0]      # e.g. first review’s token list\n",
    "print(\"Original:\", sample[:10])\n",
    "print(\"Stemmed: \", [stemmer.stem(tok) for tok in sample[:10]])"
   ]
  },
  {
   "cell_type": "code",
   "execution_count": 47,
   "metadata": {},
   "outputs": [
    {
     "data": {
      "text/html": [
       "<div>\n",
       "<style scoped>\n",
       "    .dataframe tbody tr th:only-of-type {\n",
       "        vertical-align: middle;\n",
       "    }\n",
       "\n",
       "    .dataframe tbody tr th {\n",
       "        vertical-align: top;\n",
       "    }\n",
       "\n",
       "    .dataframe thead th {\n",
       "        text-align: right;\n",
       "    }\n",
       "</style>\n",
       "<table border=\"1\" class=\"dataframe\">\n",
       "  <thead>\n",
       "    <tr style=\"text-align: right;\">\n",
       "      <th></th>\n",
       "      <th>review_no_stop</th>\n",
       "      <th>review_stemmed</th>\n",
       "    </tr>\n",
       "  </thead>\n",
       "  <tbody>\n",
       "    <tr>\n",
       "      <th>0</th>\n",
       "      <td>[ten, years, since, wildside, aired, nothing, ...</td>\n",
       "      <td>[ten, year, sinc, wildsid, air, noth, realli, ...</td>\n",
       "    </tr>\n",
       "    <tr>\n",
       "      <th>1</th>\n",
       "      <td>[betterthanaverage, entry, saint, series, hold...</td>\n",
       "      <td>[betterthanaverag, entri, saint, seri, hold, i...</td>\n",
       "    </tr>\n",
       "    <tr>\n",
       "      <th>2</th>\n",
       "      <td>[mayor, hell, feel, early, dead, end, kids, fi...</td>\n",
       "      <td>[mayor, hell, feel, earli, dead, end, kid, fil...</td>\n",
       "    </tr>\n",
       "    <tr>\n",
       "      <th>3</th>\n",
       "      <td>[really, great, short, hal, roach, two, main, ...</td>\n",
       "      <td>[realli, great, short, hal, roach, two, main, ...</td>\n",
       "    </tr>\n",
       "    <tr>\n",
       "      <th>4</th>\n",
       "      <td>[rather, charming, depiction, european, union,...</td>\n",
       "      <td>[rather, charm, depict, european, union, begin...</td>\n",
       "    </tr>\n",
       "  </tbody>\n",
       "</table>\n",
       "</div>"
      ],
      "text/plain": [
       "                                      review_no_stop  \\\n",
       "0  [ten, years, since, wildside, aired, nothing, ...   \n",
       "1  [betterthanaverage, entry, saint, series, hold...   \n",
       "2  [mayor, hell, feel, early, dead, end, kids, fi...   \n",
       "3  [really, great, short, hal, roach, two, main, ...   \n",
       "4  [rather, charming, depiction, european, union,...   \n",
       "\n",
       "                                      review_stemmed  \n",
       "0  [ten, year, sinc, wildsid, air, noth, realli, ...  \n",
       "1  [betterthanaverag, entri, saint, seri, hold, i...  \n",
       "2  [mayor, hell, feel, earli, dead, end, kid, fil...  \n",
       "3  [realli, great, short, hal, roach, two, main, ...  \n",
       "4  [rather, charm, depict, european, union, begin...  "
      ]
     },
     "execution_count": 47,
     "metadata": {},
     "output_type": "execute_result"
    }
   ],
   "source": [
    "# Apply stemming to every review’s token list \n",
    "df['review_stemmed'] = df['review_no_stop']\\\n",
    "    .apply(lambda toks: [stemmer.stem(w) for w in toks])\n",
    "\n",
    "# Peek at the result\n",
    "df[['review_no_stop','review_stemmed']].head()"
   ]
  },
  {
   "cell_type": "markdown",
   "metadata": {},
   "source": [
    "### 6. Lemmatization"
   ]
  },
  {
   "cell_type": "code",
   "execution_count": 50,
   "metadata": {},
   "outputs": [
    {
     "name": "stderr",
     "output_type": "stream",
     "text": [
      "[nltk_data] Downloading package wordnet to\n",
      "[nltk_data]     /Users/vunguyen/nltk_data...\n",
      "[nltk_data]   Package wordnet is already up-to-date!\n"
     ]
    }
   ],
   "source": [
    "# Import the WordNet lemmatizer and download the required corpus\n",
    "import nltk\n",
    "nltk.download('wordnet')\n",
    "\n",
    "from nltk.stem import WordNetLemmatizer"
   ]
  },
  {
   "cell_type": "code",
   "execution_count": 52,
   "metadata": {},
   "outputs": [],
   "source": [
    "# Instantiate your lemmatizer\n",
    "lemmatizer = WordNetLemmatizer()"
   ]
  },
  {
   "cell_type": "code",
   "execution_count": 53,
   "metadata": {},
   "outputs": [
    {
     "name": "stdout",
     "output_type": "stream",
     "text": [
      "Original: ['ten', 'years', 'since', 'wildside', 'aired', 'nothing', 'really', 'come', 'close', 'quality']\n",
      "Lemmatized (nouns): ['ten', 'year', 'since', 'wildside', 'aired', 'nothing', 'really', 'come', 'close', 'quality']\n",
      "Lemmatized (verbs): ['ten', 'years', 'since', 'wildside', 'air', 'nothing', 'really', 'come', 'close', 'quality']\n"
     ]
    }
   ],
   "source": [
    "# Try it on a small sample of your no-stop-word tokens\n",
    "sample_tokens = df['review_no_stop'].iloc[0]  # e.g. first review’s tokens\n",
    "print(\"Original:\", sample_tokens[:10])\n",
    "print(\"Lemmatized (nouns):\", [lemmatizer.lemmatize(w) for w in sample_tokens[:10]])\n",
    "# You can also pass pos='v', 'a', 'r', etc.:\n",
    "print(\"Lemmatized (verbs):\", [lemmatizer.lemmatize(w, pos='v') for w in sample_tokens[:10]])"
   ]
  },
  {
   "cell_type": "code",
   "execution_count": 54,
   "metadata": {},
   "outputs": [
    {
     "data": {
      "text/html": [
       "<div>\n",
       "<style scoped>\n",
       "    .dataframe tbody tr th:only-of-type {\n",
       "        vertical-align: middle;\n",
       "    }\n",
       "\n",
       "    .dataframe tbody tr th {\n",
       "        vertical-align: top;\n",
       "    }\n",
       "\n",
       "    .dataframe thead th {\n",
       "        text-align: right;\n",
       "    }\n",
       "</style>\n",
       "<table border=\"1\" class=\"dataframe\">\n",
       "  <thead>\n",
       "    <tr style=\"text-align: right;\">\n",
       "      <th></th>\n",
       "      <th>review_no_stop</th>\n",
       "      <th>review_lemmatized</th>\n",
       "    </tr>\n",
       "  </thead>\n",
       "  <tbody>\n",
       "    <tr>\n",
       "      <th>0</th>\n",
       "      <td>[ten, years, since, wildside, aired, nothing, ...</td>\n",
       "      <td>[ten, year, since, wildside, aired, nothing, r...</td>\n",
       "    </tr>\n",
       "    <tr>\n",
       "      <th>1</th>\n",
       "      <td>[betterthanaverage, entry, saint, series, hold...</td>\n",
       "      <td>[betterthanaverage, entry, saint, series, hold...</td>\n",
       "    </tr>\n",
       "    <tr>\n",
       "      <th>2</th>\n",
       "      <td>[mayor, hell, feel, early, dead, end, kids, fi...</td>\n",
       "      <td>[mayor, hell, feel, early, dead, end, kid, fil...</td>\n",
       "    </tr>\n",
       "    <tr>\n",
       "      <th>3</th>\n",
       "      <td>[really, great, short, hal, roach, two, main, ...</td>\n",
       "      <td>[really, great, short, hal, roach, two, main, ...</td>\n",
       "    </tr>\n",
       "    <tr>\n",
       "      <th>4</th>\n",
       "      <td>[rather, charming, depiction, european, union,...</td>\n",
       "      <td>[rather, charming, depiction, european, union,...</td>\n",
       "    </tr>\n",
       "  </tbody>\n",
       "</table>\n",
       "</div>"
      ],
      "text/plain": [
       "                                      review_no_stop  \\\n",
       "0  [ten, years, since, wildside, aired, nothing, ...   \n",
       "1  [betterthanaverage, entry, saint, series, hold...   \n",
       "2  [mayor, hell, feel, early, dead, end, kids, fi...   \n",
       "3  [really, great, short, hal, roach, two, main, ...   \n",
       "4  [rather, charming, depiction, european, union,...   \n",
       "\n",
       "                                   review_lemmatized  \n",
       "0  [ten, year, since, wildside, aired, nothing, r...  \n",
       "1  [betterthanaverage, entry, saint, series, hold...  \n",
       "2  [mayor, hell, feel, early, dead, end, kid, fil...  \n",
       "3  [really, great, short, hal, roach, two, main, ...  \n",
       "4  [rather, charming, depiction, european, union,...  "
      ]
     },
     "execution_count": 54,
     "metadata": {},
     "output_type": "execute_result"
    }
   ],
   "source": [
    "# Apply lemmatization across your entire DataFrame\n",
    "df['review_lemmatized'] = df['review_no_stop'].apply(\n",
    "    lambda toks: [lemmatizer.lemmatize(w) for w in toks])\n",
    "\n",
    "# Peek at the result\n",
    "df[['review_no_stop', 'review_lemmatized']].head()"
   ]
  }
 ],
 "metadata": {
  "kernelspec": {
   "display_name": "base",
   "language": "python",
   "name": "python3"
  },
  "language_info": {
   "codemirror_mode": {
    "name": "ipython",
    "version": 3
   },
   "file_extension": ".py",
   "mimetype": "text/x-python",
   "name": "python",
   "nbconvert_exporter": "python",
   "pygments_lexer": "ipython3",
   "version": "3.12.2"
  },
  "orig_nbformat": 4
 },
 "nbformat": 4,
 "nbformat_minor": 2
}
